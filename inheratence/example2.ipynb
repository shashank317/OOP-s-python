{
 "cells": [
  {
   "cell_type": "code",
   "execution_count": 10,
   "id": "b4d80817",
   "metadata": {},
   "outputs": [
    {
     "name": "stdout",
     "output_type": "stream",
     "text": [
      "my name is Alice and i study in grade10\n"
     ]
    }
   ],
   "source": [
    "class Person:\n",
    "    def __init__(self, name):\n",
    "        self.name = name\n",
    "    \n",
    "    def introduce(self):\n",
    "        print(f\"my naMe is {self.name}\")\n",
    "\n",
    "class Student(Person):\n",
    "    def __init__(self, name, grade):\n",
    "        super().__init__(name)\n",
    "        self.grade = grade\n",
    "   \n",
    "    def introduce(self):\n",
    "        print(f\"my name is {self.name} and i study in grade{self.grade}\")\n",
    "\n",
    "s1 = Student(\"Alice\", '10')\n",
    "s1.introduce()\n",
    "# The code has a typo in the Student class constructor and the introduce method.\n",
    "\n"
   ]
  },
  {
   "cell_type": "code",
   "execution_count": 4,
   "id": "0fe58fe2",
   "metadata": {},
   "outputs": [
    {
     "name": "stdout",
     "output_type": "stream",
     "text": [
      "My name is Shashank and I study in grade 10th.\n"
     ]
    }
   ],
   "source": [
    "# Step 1: Create the parent class\n",
    "class Person:\n",
    "    def __init__(self, name):\n",
    "        self.name = name\n",
    "\n",
    "    def introduce(self):\n",
    "        print(f\"My name is {self.name}.\")\n",
    "\n",
    "# Step 2: Create the child class Student that inherits from Person\n",
    "class Student(Person):\n",
    "    def __init__(self, name, grade):\n",
    "        super().__init__(name)   # use parent's constructor\n",
    "        self.grade = grade\n",
    "\n",
    "    def introduce(self):   # override the parent method\n",
    "        print(f\"My name is {self.name} and I study in grade {self.grade}.\")\n",
    "\n",
    "# Step 3: Create an object and test\n",
    "s1 = Student(\"Shashank\", \"10th\")\n",
    "s1.introduce()\n"
   ]
  },
  {
   "cell_type": "code",
   "execution_count": null,
   "id": "5e4b43e8",
   "metadata": {},
   "outputs": [],
   "source": []
  },
  {
   "cell_type": "code",
   "execution_count": null,
   "id": "aed8a1e1",
   "metadata": {},
   "outputs": [],
   "source": []
  },
  {
   "cell_type": "code",
   "execution_count": null,
   "id": "b0cdd8d3",
   "metadata": {},
   "outputs": [],
   "source": []
  }
 ],
 "metadata": {
  "kernelspec": {
   "display_name": "Python 3",
   "language": "python",
   "name": "python3"
  },
  "language_info": {
   "codemirror_mode": {
    "name": "ipython",
    "version": 3
   },
   "file_extension": ".py",
   "mimetype": "text/x-python",
   "name": "python",
   "nbconvert_exporter": "python",
   "pygments_lexer": "ipython3",
   "version": "3.13.5"
  }
 },
 "nbformat": 4,
 "nbformat_minor": 5
}
