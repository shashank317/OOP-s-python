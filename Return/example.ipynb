{
 "cells": [
  {
   "cell_type": "code",
   "execution_count": 2,
   "id": "13c30952",
   "metadata": {},
   "outputs": [
    {
     "name": "stdout",
     "output_type": "stream",
     "text": [
      "8\n"
     ]
    }
   ],
   "source": [
    "def add(a, b):\n",
    "    return a+b\n",
    "result = add(5,3)\n",
    "print(result)"
   ]
  },
  {
   "cell_type": "markdown",
   "id": "d3c69027",
   "metadata": {},
   "source": [
    "Without Return"
   ]
  },
  {
   "cell_type": "code",
   "execution_count": 3,
   "id": "74a6d63f",
   "metadata": {},
   "outputs": [
    {
     "name": "stdout",
     "output_type": "stream",
     "text": [
      "8\n",
      "None\n"
     ]
    }
   ],
   "source": [
    "def add(a, b):\n",
    "    print(a+b)\n",
    "\n",
    "result = add(5,3)\n",
    "print(result)  # This will print None since the function does not return a value"
   ]
  },
  {
   "cell_type": "code",
   "execution_count": 4,
   "id": "1cb72c2d",
   "metadata": {},
   "outputs": [
    {
     "name": "stdout",
     "output_type": "stream",
     "text": [
      "15\n"
     ]
    }
   ],
   "source": [
    "#Multiply and store Result\n",
    "def multiply(a, b):\n",
    "    return a * b\n",
    "result = multiply(5, 3)\n",
    "print(result)  # This will print 15 since the function returns the product\n",
    "# Function to add two numbers"
   ]
  },
  {
   "cell_type": "markdown",
   "id": "458a2e2d",
   "metadata": {},
   "source": [
    "without Return\n"
   ]
  },
  {
   "cell_type": "code",
   "execution_count": 5,
   "id": "9242f897",
   "metadata": {},
   "outputs": [
    {
     "name": "stdout",
     "output_type": "stream",
     "text": [
      "15\n",
      "None\n"
     ]
    }
   ],
   "source": [
    "def multiply(a, b):\n",
    "    print(a * b )\n",
    "\n",
    "result = multiply(5, 3)\n",
    "print(result)  # This will print None since the function does not return a value\n",
    "# Function to multiply two numbers"
   ]
  },
  {
   "cell_type": "code",
   "execution_count": null,
   "id": "4a810f24",
   "metadata": {},
   "outputs": [],
   "source": []
  },
  {
   "cell_type": "code",
   "execution_count": null,
   "id": "f5bf751d",
   "metadata": {},
   "outputs": [],
   "source": []
  },
  {
   "cell_type": "code",
   "execution_count": null,
   "id": "fb0e6a96",
   "metadata": {},
   "outputs": [],
   "source": []
  }
 ],
 "metadata": {
  "kernelspec": {
   "display_name": "Python 3",
   "language": "python",
   "name": "python3"
  },
  "language_info": {
   "codemirror_mode": {
    "name": "ipython",
    "version": 3
   },
   "file_extension": ".py",
   "mimetype": "text/x-python",
   "name": "python",
   "nbconvert_exporter": "python",
   "pygments_lexer": "ipython3",
   "version": "3.13.5"
  }
 },
 "nbformat": 4,
 "nbformat_minor": 5
}
